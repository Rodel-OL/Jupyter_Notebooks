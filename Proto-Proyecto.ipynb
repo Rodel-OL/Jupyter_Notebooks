{
 "cells": [
  {
   "cell_type": "code",
   "execution_count": 21,
   "id": "1656e834",
   "metadata": {},
   "outputs": [
    {
     "name": "stdout",
     "output_type": "stream",
     "text": [
      "['x,s,n,t,p,f,c,n,k,e,e,s,s,w,w,p,w,o,p,k,s,u', 'x,s,y,t,a,f,c,b,k,e,c,s,s,w,w,p,w,o,p,n,n,g', 'b,s,w,t,l,f,c,b,n,e,c,s,s,w,w,p,w,o,p,n,n,m', 'x,y,w,t,p,f,c,n,n,e,e,s,s,w,w,p,w,o,p,k,s,u']\n",
      "[['x,s,n,t,p,f,c,n,k,e,e,s,s,w,w,p,w,o,p,k,s,u']\n",
      " ['x,s,y,t,a,f,c,b,k,e,c,s,s,w,w,p,w,o,p,n,n,g']\n",
      " ['b,s,w,t,l,f,c,b,n,e,c,s,s,w,w,p,w,o,p,n,n,m']\n",
      " ['x,y,w,t,p,f,c,n,n,e,e,s,s,w,w,p,w,o,p,k,s,u']\n",
      " ['x,s,g,f,n,f,w,b,k,t,e,s,s,w,w,p,w,o,e,n,a,g']]\n",
      "['p', 'e', 'e', 'p']\n",
      "[[6277]\n",
      " [6638]\n",
      " [ 216]\n",
      " [7825]\n",
      " [5908]\n",
      " [8028]\n",
      " [ 164]\n",
      " [ 368]\n",
      " [7834]\n",
      " [ 236]\n",
      " [8072]\n",
      " [8031]\n",
      " [ 263]\n",
      " [7823]\n",
      " [5116]\n",
      " [4443]\n",
      " [1250]\n",
      " [6284]\n",
      " [7829]\n",
      " [6281]\n",
      " [ 248]\n",
      " [7700]\n",
      " [ 435]]\n"
     ]
    }
   ],
   "source": [
    "import numpy as np\n",
    "from sklearn import preprocessing\n",
    "# Para usar LabelEncoder\n",
    "le = preprocessing.LabelEncoder()\n",
    "# Cargar el dataset de hongos\n",
    "# para cargar los arreglos\n",
    "ejemplos = []\n",
    "ejemplos2 = []\n",
    "# Separacion del archivo agaricus-Lepidota.data (dentro de carpeta Hongos-20220226)\n",
    "# en caracteristicas y clases por terminal UNIX\n",
    "# Clases :\n",
    "# cut -d, -f1 Hongos-20220226/agaricus-lepiota.data > data_clases.data\n",
    "# Caracteristicas :\n",
    "# cut -d, -f2-23 Hongos-20220226/agaricus-lepiota.data > data_char.data\n",
    "\n",
    "# Leer el dataset de caracteristicas, dividirlo por ejemplo y guardarlo \n",
    "# en la lista de \"ejemplos\"\n",
    "mdata = open(\"data_char.data\", \"r\")\n",
    "mdataset = mdata.readlines()\n",
    "mdata.close()\n",
    "for line in mdataset:\n",
    "    final = line.find(\"\\n',\")\n",
    "    prim_lin = line[:final]\n",
    "    sequence_not = line.find(\"'\", final+1)\n",
    "    sequence = line[final+1:sequence_not]\n",
    "    ejemplos.append(sequence)\n",
    "\n",
    "# Leer el dataset solo con clases, dividirlo por ejemplo y \n",
    "# guardarlo en la lista \"ejemplos2\"\n",
    "danam = open(\"data_clases.data\", \"r\")\n",
    "datanam = danam.readlines()\n",
    "danam.close()\n",
    "for line in datanam:\n",
    "    final2 = line.find(\"\\n',\")\n",
    "    prim_lin2 = line[:final2]\n",
    "    sequence_not2 = line.find(\"'\", final2+1)\n",
    "    sequence2 = line[final2+1:sequence_not2]\n",
    "    ejemplos2.append(sequence2)\n",
    "\n",
    "# Crear un arreglo 2d con los datos de caracteristicas\n",
    "arr_2d = np.reshape(ejemplos, (8124,1))\n",
    "# Comprobar el rearreglo\n",
    "print(ejemplos[0:4])\n",
    "print(arr_2d[0:5])\n",
    "print(ejemplos2[0:4])\n",
    "# Codificar o pasar las instancias cualitativas de caracteristicas \n",
    "# a instancias numericos para poder usar el algoritmo\n",
    "y2 = le.fit_transform(arr_2d)\n",
    "# Volver a reacomodar para un arreglo 2d\n",
    "y22 = np.reshape(y2, (8124,1))\n",
    "# Corroborar\n",
    "print(y22[0:23])\n"
   ]
  },
  {
   "cell_type": "code",
   "execution_count": 22,
   "id": "b84a894d",
   "metadata": {},
   "outputs": [
    {
     "name": "stdout",
     "output_type": "stream",
     "text": [
      "[[6277]\n",
      " [6638]\n",
      " [ 216]\n",
      " [7825]\n",
      " [5908]]\n",
      "['p', 'e', 'e', 'p', 'e']\n"
     ]
    }
   ],
   "source": [
    "from sklearn.model_selection import train_test_split\n",
    "\n",
    "# Leemos conjunto de ejemplos\n",
    "X = y22\n",
    "print(X[:5])\n",
    "# Leemos valores de clase para cada ejemplo\n",
    "y = ejemplos2\n",
    "print(y[:5])\n",
    "# Separamos el dataset en dos: entrenamiento y evaluación\n",
    "X_train, X_test, y_train, y_test = train_test_split(X, y, test_size=0.30, random_state=0)"
   ]
  },
  {
   "cell_type": "code",
   "execution_count": 29,
   "id": "50ef95d0",
   "metadata": {},
   "outputs": [
    {
     "data": {
      "text/plain": [
       "array(['p', 'e', 'e', ..., 'p', 'p', 'p'], dtype='<U1')"
      ]
     },
     "execution_count": 29,
     "metadata": {},
     "output_type": "execute_result"
    }
   ],
   "source": [
    "from sklearn.neighbors import KNeighborsClassifier\n",
    "\n",
    "# Clasificación K Nearest neighbors \n",
    "k = 5\n",
    "# Definición del clasificador\n",
    "classifier = KNeighborsClassifier(n_neighbors=k)\n",
    "# Entrenamiento del clasificador con lo datos de entrenamiento y valores de clase para cada ejemplo\n",
    "classifier.fit(X_train, y_train)\n",
    "# Predicción con el clasificador entrenado en los datos de evaluación \n",
    "y_predict = classifier.predict(X_test)\n",
    "y_predict"
   ]
  },
  {
   "cell_type": "code",
   "execution_count": 30,
   "id": "280a8601",
   "metadata": {},
   "outputs": [
    {
     "name": "stdout",
     "output_type": "stream",
     "text": [
      "Accuracy: 0.9790812141099262\n",
      "Precision: 0.9791720775168802\n",
      "Recall: 0.9789165237278444\n",
      "F-score: 0.9790361780958764\n"
     ]
    }
   ],
   "source": [
    "# Medidas de rendimiento del clasificador\n",
    "from sklearn.metrics import accuracy_score\n",
    "from sklearn.metrics import f1_score\n",
    "from sklearn.metrics import precision_score\n",
    "from sklearn.metrics import recall_score\n",
    "\n",
    "print(\"Accuracy: {}\".format(accuracy_score(y_test, y_predict)))\n",
    "print(\"Precision: {}\".format(precision_score(y_test, y_predict, average=\"macro\")))\n",
    "print(\"Recall: {}\".format(recall_score(y_test, y_predict, average=\"macro\")))\n",
    "print(\"F-score: {}\".format(f1_score(y_test, y_predict, average=\"macro\")))"
   ]
  },
  {
   "cell_type": "code",
   "execution_count": 31,
   "id": "6a8be476",
   "metadata": {},
   "outputs": [
    {
     "name": "stdout",
     "output_type": "stream",
     "text": [
      "              precision    recall  f1-score   support\n",
      "\n",
      "   Poisonous       0.98      0.98      0.98      1272\n",
      "      Edible       0.98      0.98      0.98      1166\n",
      "\n",
      "    accuracy                           0.98      2438\n",
      "   macro avg       0.98      0.98      0.98      2438\n",
      "weighted avg       0.98      0.98      0.98      2438\n",
      "\n"
     ]
    }
   ],
   "source": [
    "from sklearn.metrics import classification_report\n",
    "\n",
    "target_names = ['Poisonous', 'Edible']\n",
    "print(classification_report(y_test, y_predict, target_names=target_names))"
   ]
  },
  {
   "cell_type": "code",
   "execution_count": 32,
   "id": "027577ac",
   "metadata": {},
   "outputs": [
    {
     "name": "stdout",
     "output_type": "stream",
     "text": [
      "[[1250   22]\n",
      " [  29 1137]]\n"
     ]
    },
    {
     "name": "stderr",
     "output_type": "stream",
     "text": [
      "c:\\users\\ol\\appdata\\local\\programs\\python\\python39\\lib\\site-packages\\sklearn\\utils\\deprecation.py:87: FutureWarning: Function plot_confusion_matrix is deprecated; Function `plot_confusion_matrix` is deprecated in 1.0 and will be removed in 1.2. Use one of the class methods: ConfusionMatrixDisplay.from_predictions or ConfusionMatrixDisplay.from_estimator.\n",
      "  warnings.warn(msg, category=FutureWarning)\n"
     ]
    },
    {
     "data": {
      "text/plain": [
       "<sklearn.metrics._plot.confusion_matrix.ConfusionMatrixDisplay at 0x1a86897e790>"
      ]
     },
     "execution_count": 32,
     "metadata": {},
     "output_type": "execute_result"
    },
    {
     "data": {
      "image/png": "[encoded data removed]",
      "text/plain": [
       "<Figure size 432x288 with 2 Axes>"
      ]
     },
     "metadata": {
      "needs_background": "light"
     },
     "output_type": "display_data"
    }
   ],
   "source": [
    "from sklearn.metrics import confusion_matrix\n",
    "import matplotlib.pyplot as plt\n",
    "from sklearn.metrics import plot_confusion_matrix\n",
    "\n",
    "print(confusion_matrix(y_test, y_predict))\n",
    "plot_confusion_matrix(classifier, X_test, y_test, cmap=plt.cm.Blues, \n",
    "                      display_labels=['Poisonous', 'Edible'])  "
   ]
  },
  {
   "cell_type": "code",
   "execution_count": null,
   "id": "2f20ec7b",
   "metadata": {},
   "outputs": [],
   "source": []
  }
 ],
 "metadata": {
  "kernelspec": {
   "display_name": "Python 3 (ipykernel)",
   "language": "python",
   "name": "python3"
  },
  "language_info": {
   "codemirror_mode": {
    "name": "ipython",
    "version": 3
   },
   "file_extension": ".py",
   "mimetype": "text/x-python",
   "name": "python",
   "nbconvert_exporter": "python",
   "pygments_lexer": "ipython3",
   "version": "3.9.2"
  }
 },
 "nbformat": 4,
 "nbformat_minor": 5
}
